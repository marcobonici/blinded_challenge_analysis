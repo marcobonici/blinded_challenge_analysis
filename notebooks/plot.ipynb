{
 "cells": [
  {
   "cell_type": "code",
   "execution_count": null,
   "metadata": {},
   "outputs": [],
   "source": [
    "%matplotlib inline\n",
    "%config InlineBackend.figure_format = 'retina'\n",
    "import sys, os\n",
    "sys.path.insert(0,os.path.realpath(os.path.join(os.getcwd(),'..')))\n",
    "from getdist import plots, MCSamples\n",
    "import getdist\n",
    "import matplotlib.pyplot as plt\n",
    "import IPython\n",
    "import numpy as np\n",
    "print('GetDist Version: %s, Matplotlib version: %s'%(getdist.__version__, plt.matplotlib.__version__))"
   ]
  },
  {
   "cell_type": "code",
   "execution_count": null,
   "metadata": {},
   "outputs": [],
   "source": [
    "root_pybird_lagrangian = \"../chains_pybird/lagrangian/\"\n",
    "root_pybird_optiresum = \"../chains_pybird/optiresum\""
   ]
  },
  {
   "cell_type": "code",
   "execution_count": null,
   "metadata": {},
   "outputs": [],
   "source": [
    "chains_pybird_lagrangian = np.loadtxt(root_pybird_lagrangian+\"/J_0p20_1.txt\")\n",
    "chains_pybird_optiresum = np.loadtxt(root_pybird_optiresum+\"/J_0p20/J_0p20_1.txt\")\n",
    "\n",
    "chains_pybird_lagrangian[:,3] *= 100\n",
    "chains_pybird_optiresum[:,3] *= 100\n",
    "chains_pybird_lagrangian = chains_pybird_lagrangian[:,2:9]\n",
    "chains_pybird_optiresum = chains_pybird_optiresum[:,2:9]\n",
    "\n",
    "chains_effort_optiresum = np.load(\"my_chains_20_optimal_Pathfinder_NUTS.npy\")\n",
    "#chains_effort_lagrangian= np.load(\"my_chains_20_lagrangian_Pathfinder.npy\")\n",
    "\n",
    "\n",
    "row = np.zeros(len(chains_effort_optiresum[:,1]))\n",
    "row_n = chains_effort_optiresum.shape[1] ##last row\n",
    "chains_effort_optiresum = np.insert(chains_effort_optiresum,row_n,[row],axis= 1)\n",
    "\n",
    "#row = np.zeros(len(chains_effort_lagrangian[:,1]))\n",
    "#row_n = chains_effort_lagrangian.shape[1] ##last row\n",
    "#chains_effort_lagrangian = np.insert(chains_effort_lagrangian,row_n,[row],axis= 1)\n",
    "\n",
    "chains_pybird_lagrangian[:,6] = chains_pybird_lagrangian[:,0]*(chains_pybird_lagrangian[:,1]**2)/10000\n",
    "chains_pybird_optiresum[:,6]  = chains_pybird_optiresum[:,0]*(chains_pybird_optiresum[:,1]**2)/10000\n",
    "#chains_effort_lagrangian[:,6] = chains_effort_lagrangian[:,0]*(chains_effort_lagrangian[:,1]**2)/10000\n",
    "chains_effort_optiresum[:,6]  = chains_effort_optiresum[:,0]*(chains_effort_optiresum[:,1]**2)/10000\n",
    "\n",
    "reduced_names = [\"Omm\", \"H0\", \"ln10_A_s\", \"b_1\", \"c_2\", \"c_4\", \"omm\"]\n",
    "reduced_labels = [\"\\Omega_M\", \"H_0\", \"\\ln 10 A_s\", \"b_1\", \"c_2\", \"c_4\", \"\\omega_M\"]\n",
    "\n",
    "chain_PyBird_lagrangian   = MCSamples(samples=chains_pybird_lagrangian, names = reduced_names, labels = reduced_labels, label = \"PyBird lagrangian\")\n",
    "chain_PyBird_optiresum   = MCSamples(samples=chains_pybird_optiresum, names = reduced_names, labels = reduced_labels, label = \"PyBird optiresum\")\n",
    "\n",
    "chain_Effort_optiresum   = MCSamples(samples=chains_effort_optiresum[:,0:7], names = reduced_names, labels = reduced_labels, label = \"Effort optiresum\")\n",
    "#chain_Marco_lagrangian   = MCSamples(samples=chains_effort_lagrangian[:,0:7], names = reduced_names, labels = reduced_labels, label = \"Marco optiresum\")"
   ]
  },
  {
   "cell_type": "code",
   "execution_count": null,
   "metadata": {},
   "outputs": [],
   "source": [
    "g = plots.get_subplot_plotter()\n",
    "g.settings.title_limit_fontsize = 12\n",
    "included_chains = [chain_PyBird_lagrangian, chain_PyBird_optiresum, chain_Effort_optiresum]\n",
    "g.triangle_plot(included_chains, filled=False, title_limit=1,legend_loc='upper right')\n",
    "plt.savefig(\"contour_comparison_k_20.png\")"
   ]
  },
  {
   "cell_type": "code",
   "execution_count": null,
   "metadata": {},
   "outputs": [],
   "source": [
    "g = plots.get_subplot_plotter()\n",
    "g.settings.title_limit_fontsize = 12\n",
    "included_chains = [chain_PyBird_optiresum, chain_Effort_optiresum]\n",
    "g.triangle_plot(included_chains, filled=False, title_limit=1,legend_loc='upper right')"
   ]
  },
  {
   "cell_type": "code",
   "execution_count": null,
   "metadata": {},
   "outputs": [],
   "source": [
    "g = plots.get_subplot_plotter()\n",
    "g.settings.title_limit_fontsize = 12\n",
    "included_chains = [chain_PyBird_lagrangian, chain_PyBird_optiresum]\n",
    "g.triangle_plot(included_chains, filled=True, title_limit=1,legend_loc='upper right')"
   ]
  },
  {
   "cell_type": "code",
   "execution_count": null,
   "metadata": {},
   "outputs": [],
   "source": [
    "chains_pybird_lagrangian = np.loadtxt(root_pybird_lagrangian+\"/J_0p18_1.txt\")\n",
    "chains_pybird_optiresum = np.loadtxt(root_pybird_optiresum+\"/J_0p18/J_0p18_1.txt\")\n",
    "\n",
    "chains_pybird_lagrangian[:,3] *= 100\n",
    "chains_pybird_optiresum[:,3] *= 100\n",
    "chains_pybird_lagrangian = chains_pybird_lagrangian[:,2:9]\n",
    "chains_pybird_optiresum = chains_pybird_optiresum[:,2:9]\n",
    "\n",
    "chains_effort_optiresum = np.load(\"my_chains_18_optimal_Pathfinder_NUTS.npy\")\n",
    "#chains_effort_lagrangian= np.load(\"my_chains_18_lagrangian_Pathfinder.npy\")\n",
    "\n",
    "row = np.zeros(len(chains_effort_optiresum[:,1]))\n",
    "row_n = chains_effort_optiresum.shape[1] ##last row\n",
    "chains_effort_optiresum = np.insert(chains_effort_optiresum,row_n,[row],axis= 1)\n",
    "\n",
    "#row = np.zeros(len(chains_effort_lagrangian[:,1]))\n",
    "#row_n = chains_effort_lagrangian.shape[1] ##last row\n",
    "#chains_effort_lagrangian = np.insert(chains_effort_lagrangian,row_n,[row],axis= 1)\n",
    "\n",
    "chains_pybird_lagrangian[:,6] = chains_pybird_lagrangian[:,0]*(chains_pybird_lagrangian[:,1]**2)/10000\n",
    "chains_pybird_optiresum[:,6]  = chains_pybird_optiresum[:,0]*(chains_pybird_optiresum[:,1]**2)/10000\n",
    "#chains_effort_lagrangian[:,6] = chains_effort_lagrangian[:,0]*(chains_effort_lagrangian[:,1]**2)/10000\n",
    "chains_effort_optiresum[:,6]  = chains_effort_optiresum[:,0]*(chains_effort_optiresum[:,1]**2)/10000\n",
    "\n",
    "reduced_names = [\"Omm\", \"H0\", \"ln10_A_s\", \"b_1\", \"c_2\", \"c_4\", \"omm\"]\n",
    "reduced_labels = [\"\\Omega_M\", \"H_0\", \"\\ln 10 A_s\", \"b_1\", \"c_2\", \"c_4\", \"\\omega_M\"]\n",
    "\n",
    "chain_PyBird_lagrangian   = MCSamples(samples=chains_pybird_lagrangian, names = reduced_names, labels = reduced_labels, label = \"PyBird lagrangian\")\n",
    "chain_PyBird_optiresum   = MCSamples(samples=chains_pybird_optiresum, names = reduced_names, labels = reduced_labels, label = \"PyBird optiresum\")\n",
    "chain_Effort_optiresum   = MCSamples(samples=chains_effort_optiresum[:,0:7], names = reduced_names, labels = reduced_labels, label = \"Effort optiresum\")\n",
    "#chain_Marco_lagrangian   = MCSamples(samples=chains_effort_lagrangian[:,0:7], names = reduced_names, labels = reduced_labels, label = \"Marco lagrangian\")"
   ]
  },
  {
   "cell_type": "code",
   "execution_count": null,
   "metadata": {},
   "outputs": [],
   "source": [
    "g = plots.get_subplot_plotter()\n",
    "g.settings.title_limit_fontsize = 12\n",
    "included_chains = [chain_PyBird_lagrangian, chain_PyBird_optiresum, chain_Effort_optiresum]\n",
    "g.triangle_plot(included_chains, filled=False, title_limit=1,legend_loc='upper right')\n",
    "plt.savefig(\"contour_comparison_k_18.png\")"
   ]
  },
  {
   "cell_type": "code",
   "execution_count": null,
   "metadata": {},
   "outputs": [],
   "source": [
    "g = plots.get_subplot_plotter()\n",
    "g.settings.title_limit_fontsize = 12\n",
    "included_chains = [chain_PyBird_optiresum, chain_Effort_optiresum]\n",
    "g.triangle_plot(included_chains, filled=False, title_limit=1,legend_loc='upper right')"
   ]
  },
  {
   "cell_type": "code",
   "execution_count": null,
   "metadata": {},
   "outputs": [],
   "source": [
    "g = plots.get_subplot_plotter()\n",
    "g.settings.title_limit_fontsize = 12\n",
    "included_chains = [chain_PyBird_lagrangian, chain_PyBird_optiresum]\n",
    "g.triangle_plot(included_chains, filled=False, title_limit=1,legend_loc='upper right')"
   ]
  },
  {
   "cell_type": "code",
   "execution_count": null,
   "metadata": {},
   "outputs": [],
   "source": [
    "chains_pybird_lagrangian = np.loadtxt(root_pybird_lagrangian+\"/J_0p16_1.txt\")\n",
    "chains_pybird_optiresum = np.loadtxt(root_pybird_optiresum+\"/J_0p16/J_0p16_1.txt\")\n",
    "\n",
    "chains_pybird_lagrangian[:,3] *= 100\n",
    "chains_pybird_optiresum[:,3] *= 100\n",
    "chains_pybird_lagrangian = chains_pybird_lagrangian[:,2:9]\n",
    "chains_pybird_optiresum = chains_pybird_optiresum[:,2:9]\n",
    "\n",
    "chains_effort_optiresum = np.load(\"my_chains_16_optimal_Pathfinder_NUTS.npy\")\n",
    "#chains_effort_lagrangian= np.load(\"my_chains_16_lagrangian_Pathfinder.npy\")\n",
    "\n",
    "row = np.zeros(len(chains_effort_optiresum[:,1]))\n",
    "row_n = chains_effort_optiresum.shape[1] ##last row\n",
    "chains_effort_optiresum = np.insert(chains_effort_optiresum,row_n,[row],axis= 1)\n",
    "\n",
    "#row = np.zeros(len(chains_effort_lagrangian[:,1]))\n",
    "#row_n = chains_effort_lagrangian.shape[1] ##last row\n",
    "#chains_effort_lagrangian = np.insert(chains_effort_lagrangian,row_n,[row],axis= 1)\n",
    "\n",
    "chains_pybird_lagrangian[:,6] = chains_pybird_lagrangian[:,0]*(chains_pybird_lagrangian[:,1]**2)/10000\n",
    "chains_pybird_optiresum[:,6]  = chains_pybird_optiresum[:,0]*(chains_pybird_optiresum[:,1]**2)/10000\n",
    "#chains_effort_lagrangian[:,6] = chains_effort_lagrangian[:,0]*(chains_effort_lagrangian[:,1]**2)/10000\n",
    "chains_effort_optiresum[:,6]  = chains_effort_optiresum[:,0]*(chains_effort_optiresum[:,1]**2)/10000\n",
    "\n",
    "reduced_names = [\"Omm\", \"H0\", \"ln10_A_s\", \"b_1\", \"c_2\", \"c_4\", \"omm\"]\n",
    "reduced_labels = [\"\\Omega_M\", \"H_0\", \"\\ln 10 A_s\", \"b_1\", \"c_2\", \"c_4\", \"\\omega_M\"]\n",
    "\n",
    "chain_PyBird_lagrangian   = MCSamples(samples=chains_pybird_lagrangian, names = reduced_names, labels = reduced_labels, label = \"PyBird lagrangian\")\n",
    "chain_PyBird_optiresum   = MCSamples(samples=chains_pybird_optiresum, names = reduced_names, labels = reduced_labels, label = \"PyBird optiresum\")\n",
    "chain_Effort_optiresum   = MCSamples(samples=chains_effort_optiresum[:,0:7], names = reduced_names, labels = reduced_labels, label = \"Effort optiresum\")\n",
    "#chain_Marco_lagrangian   = MCSamples(samples=chains_effort_lagrangian[:,0:7], names = reduced_names, labels = reduced_labels, label = \"Marco lagrangian\")"
   ]
  },
  {
   "cell_type": "code",
   "execution_count": null,
   "metadata": {},
   "outputs": [],
   "source": [
    "g = plots.get_subplot_plotter()\n",
    "g.settings.title_limit_fontsize = 12\n",
    "included_chains = [chain_PyBird_lagrangian, chain_PyBird_optiresum, chain_Effort_optiresum]\n",
    "g.triangle_plot(included_chains, filled=False, title_limit=1,legend_loc='upper right')\n",
    "plt.savefig(\"contour_comparison_k_16.png\")"
   ]
  },
  {
   "cell_type": "code",
   "execution_count": null,
   "metadata": {},
   "outputs": [],
   "source": [
    "g = plots.get_subplot_plotter()\n",
    "g.settings.title_limit_fontsize = 12\n",
    "included_chains = [chain_PyBird_lagrangian, chain_PyBird_optiresum]\n",
    "g.triangle_plot(included_chains, filled=False, title_limit=1,legend_loc='upper right')"
   ]
  },
  {
   "cell_type": "code",
   "execution_count": null,
   "metadata": {},
   "outputs": [],
   "source": [
    "g = plots.get_subplot_plotter()\n",
    "g.settings.title_limit_fontsize = 12\n",
    "included_chains = [chain_PyBird_optiresum, chain_Effort_optiresum]\n",
    "g.triangle_plot(included_chains, filled=False, title_limit=1,legend_loc='upper right')"
   ]
  },
  {
   "cell_type": "code",
   "execution_count": null,
   "metadata": {},
   "outputs": [],
   "source": [
    "chains_pybird_lagrangian = np.loadtxt(root_pybird_lagrangian+\"/J_0p14_1.txt\")\n",
    "chains_pybird_optiresum = np.loadtxt(root_pybird_optiresum+\"/J_0p14/J_0p14_1.txt\")\n",
    "\n",
    "chains_pybird_lagrangian[:,3] *= 100\n",
    "chains_pybird_optiresum[:,3] *= 100\n",
    "chains_pybird_lagrangian = chains_pybird_lagrangian[:,2:9]\n",
    "chains_pybird_optiresum = chains_pybird_optiresum[:,2:9]\n",
    "\n",
    "chains_effort_optiresum = np.load(\"my_chains_14_optimal_Pathfinder_NUTS.npy\")\n",
    "#chains_effort_lagrangian= np.load(\"my_chains_14_lagrangian_Pathfinder.npy\")\n",
    "\n",
    "row = np.zeros(len(chains_effort_optiresum[:,1]))\n",
    "row_n = chains_effort_optiresum.shape[1] ##last row\n",
    "chains_effort_optiresum = np.insert(chains_effort_optiresum,row_n,[row],axis= 1)\n",
    "\n",
    "#row = np.zeros(len(chains_effort_lagrangian[:,1]))\n",
    "#row_n = chains_effort_lagrangian.shape[1] ##last row\n",
    "#chains_effort_lagrangian = np.insert(chains_effort_lagrangian,row_n,[row],axis= 1)\n",
    "\n",
    "chains_pybird_lagrangian[:,6] = chains_pybird_lagrangian[:,0]*(chains_pybird_lagrangian[:,1]**2)/10000\n",
    "chains_pybird_optiresum[:,6]  = chains_pybird_optiresum[:,0]*(chains_pybird_optiresum[:,1]**2)/10000\n",
    "#chains_effort_lagrangian[:,6] = chains_effort_lagrangian[:,0]*(chains_effort_lagrangian[:,1]**2)/10000\n",
    "chains_effort_optiresum[:,6]  = chains_effort_optiresum[:,0]*(chains_effort_optiresum[:,1]**2)/10000\n",
    "\n",
    "reduced_names = [\"Omm\", \"H0\", \"ln10_A_s\", \"b_1\", \"c_2\", \"c_4\", \"omm\"]\n",
    "reduced_labels = [\"\\Omega_M\", \"H_0\", \"\\ln 10 A_s\", \"b_1\", \"c_2\", \"c_4\", \"\\omega_M\"]\n",
    "\n",
    "chain_PyBird_lagrangian   = MCSamples(samples=chains_pybird_lagrangian, names = reduced_names, labels = reduced_labels, label = \"PyBird lagrangian\")\n",
    "chain_PyBird_optiresum   = MCSamples(samples=chains_pybird_optiresum, names = reduced_names, labels = reduced_labels, label = \"PyBird optiresum\")\n",
    "chain_Effort_optiresum   = MCSamples(samples=chains_effort_optiresum[:,0:7], names = reduced_names, labels = reduced_labels, label = \"Effort optiresum\")\n",
    "#chain_Marco_lagrangian   = MCSamples(samples=chains_effort_lagrangian[:,0:7], names = reduced_names, labels = reduced_labels, label = \"Marco lagrangian\")"
   ]
  },
  {
   "cell_type": "code",
   "execution_count": null,
   "metadata": {},
   "outputs": [],
   "source": [
    "g = plots.get_subplot_plotter()\n",
    "g.settings.title_limit_fontsize = 12\n",
    "included_chains = [chain_PyBird_lagrangian, chain_PyBird_optiresum, chain_Effort_optiresum]\n",
    "g.triangle_plot(included_chains, filled=True, title_limit=1,legend_loc='upper right', )\n",
    "plt.savefig(\"contour_comparison_k_14.png\")"
   ]
  },
  {
   "cell_type": "code",
   "execution_count": null,
   "metadata": {},
   "outputs": [],
   "source": [
    "g = plots.get_subplot_plotter()\n",
    "g.settings.title_limit_fontsize = 12\n",
    "included_chains = [chain_PyBird_lagrangian, chain_PyBird_optiresum]\n",
    "g.triangle_plot(included_chains, filled=True, title_limit=1,legend_loc='upper right', )"
   ]
  },
  {
   "cell_type": "code",
   "execution_count": null,
   "metadata": {},
   "outputs": [],
   "source": [
    "g = plots.get_subplot_plotter()\n",
    "g.settings.title_limit_fontsize = 12\n",
    "included_chains = [chain_PyBird_optiresum, chain_Effort_optiresum]\n",
    "g.triangle_plot(included_chains, filled=True, title_limit=1,legend_loc='upper right', )"
   ]
  },
  {
   "cell_type": "code",
   "execution_count": null,
   "metadata": {},
   "outputs": [],
   "source": [
    "chains_pybird_lagrangian = np.loadtxt(root_pybird_lagrangian+\"/J_0p12_1.txt\")\n",
    "chains_pybird_optiresum = np.loadtxt(root_pybird_optiresum+\"/J_0p12/J_0p12_1.txt\")\n",
    "\n",
    "chains_pybird_lagrangian[:,3] *= 100\n",
    "chains_pybird_optiresum[:,3] *= 100\n",
    "chains_pybird_lagrangian = chains_pybird_lagrangian[:,2:9]\n",
    "chains_pybird_optiresum = chains_pybird_optiresum[:,2:9]\n",
    "\n",
    "chains_effort_optiresum = np.load(\"my_chains_12_optimal_Pathfinder_NUTS.npy\")\n",
    "#chains_effort_lagrangian= np.load(\"my_chains_12_lagrangian_Pathfinder.npy\")\n",
    "\n",
    "row = np.zeros(len(chains_effort_optiresum[:,1]))\n",
    "row_n = chains_effort_optiresum.shape[1] ##last row\n",
    "chains_effort_optiresum = np.insert(chains_effort_optiresum,row_n,[row],axis= 1)\n",
    "\n",
    "#row = np.zeros(len(chains_effort_lagrangian[:,1]))\n",
    "#row_n = chains_effort_lagrangian.shape[1] ##last row\n",
    "#chains_effort_lagrangian = np.insert(chains_effort_lagrangian,row_n,[row],axis= 1)\n",
    "\n",
    "chains_pybird_lagrangian[:,6] = chains_pybird_lagrangian[:,0]*(chains_pybird_lagrangian[:,1]**2)/10000\n",
    "chains_pybird_optiresum[:,6]  = chains_pybird_optiresum[:,0]*(chains_pybird_optiresum[:,1]**2)/10000\n",
    "#chains_effort_lagrangian[:,6] = chains_effort_lagrangian[:,0]*(chains_effort_lagrangian[:,1]**2)/10000\n",
    "chains_effort_optiresum[:,6]  = chains_effort_optiresum[:,0]*(chains_effort_optiresum[:,1]**2)/10000\n",
    "\n",
    "reduced_names = [\"Omm\", \"H0\", \"ln10_A_s\", \"b_1\", \"c_2\", \"c_4\", \"omm\"]\n",
    "reduced_labels = [\"\\Omega_M\", \"H_0\", \"\\ln 10 A_s\", \"b_1\", \"c_2\", \"c_4\", \"\\omega_M\"]\n",
    "\n",
    "chain_PyBird_lagrangian   = MCSamples(samples=chains_pybird_lagrangian, names = reduced_names, labels = reduced_labels, label = \"PyBird lagrangian\")\n",
    "chain_PyBird_optiresum   = MCSamples(samples=chains_pybird_optiresum, names = reduced_names, labels = reduced_labels, label = \"PyBird optiresum\")\n",
    "chain_Effort_optiresum   = MCSamples(samples=chains_effort_optiresum[:,0:7], names = reduced_names, labels = reduced_labels, label = \"Effort optiresum\")"
   ]
  },
  {
   "cell_type": "code",
   "execution_count": null,
   "metadata": {},
   "outputs": [],
   "source": [
    "g = plots.get_subplot_plotter()\n",
    "g.settings.title_limit_fontsize = 12\n",
    "included_chains = [chain_PyBird_lagrangian, chain_PyBird_optiresum, chain_Effort_optiresum]\n",
    "g.triangle_plot(included_chains, filled=False, title_limit=1,legend_loc='upper right')\n",
    "plt.savefig(\"contour_comparison_k_12.png\")"
   ]
  },
  {
   "cell_type": "code",
   "execution_count": null,
   "metadata": {},
   "outputs": [],
   "source": [
    "g = plots.get_subplot_plotter()\n",
    "g.settings.title_limit_fontsize = 12\n",
    "included_chains = [chain_PyBird_lagrangian, chain_PyBird_optiresum]\n",
    "g.triangle_plot(included_chains, filled=False, title_limit=1,legend_loc='upper right')"
   ]
  },
  {
   "cell_type": "code",
   "execution_count": null,
   "metadata": {},
   "outputs": [],
   "source": [
    "g = plots.get_subplot_plotter()\n",
    "g.settings.title_limit_fontsize = 12\n",
    "included_chains = [chain_PyBird_optiresum, chain_Effort_optiresum]\n",
    "g.triangle_plot(included_chains, filled=False, title_limit=1,legend_loc='upper right')"
   ]
  },
  {
   "cell_type": "code",
   "execution_count": null,
   "metadata": {},
   "outputs": [],
   "source": []
  }
 ],
 "metadata": {
  "kernelspec": {
   "display_name": "base",
   "language": "python",
   "name": "python3"
  },
  "language_info": {
   "codemirror_mode": {
    "name": "ipython",
    "version": 3
   },
   "file_extension": ".py",
   "mimetype": "text/x-python",
   "name": "python",
   "nbconvert_exporter": "python",
   "pygments_lexer": "ipython3",
   "version": "3.9.12"
  },
  "orig_nbformat": 4
 },
 "nbformat": 4,
 "nbformat_minor": 2
}
